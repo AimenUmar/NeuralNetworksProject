{
  "nbformat": 4,
  "nbformat_minor": 0,
  "metadata": {
    "colab": {
      "provenance": [],
      "gpuType": "T4"
    },
    "kernelspec": {
      "name": "python3",
      "display_name": "Python 3"
    },
    "language_info": {
      "name": "python"
    },
    "accelerator": "GPU"
  },
  "cells": [
    {
      "cell_type": "code",
      "execution_count": 1,
      "metadata": {
        "id": "VBQokoW24BlG"
      },
      "outputs": [],
      "source": [
        "import torch\n",
        "import torch.nn as nn\n",
        "import numpy as np\n",
        "import torch.optim as optim\n",
        "from torch.utils.data import DataLoader\n",
        "import matplotlib.pyplot as plt\n",
        "from torchvision.datasets import MNIST\n",
        "import torchvision.transforms as transforms\n",
        "import torch.nn.functional as F\n",
        "from sklearn.metrics import accuracy_score, f1_score, recall_score, precision_score, confusion_matrix, ConfusionMatrixDisplay"
      ]
    },
    {
      "cell_type": "code",
      "source": [
        "device = torch.device(\"cuda\" if torch.cuda.is_available() else \"cpu\")\n",
        "print(device)"
      ],
      "metadata": {
        "colab": {
          "base_uri": "https://localhost:8080/"
        },
        "id": "sj6eBF294U36",
        "outputId": "6b4f1b38-1a39-40bd-c875-4c6ca576302b"
      },
      "execution_count": 2,
      "outputs": [
        {
          "output_type": "stream",
          "name": "stdout",
          "text": [
            "cpu\n"
          ]
        }
      ]
    },
    {
      "cell_type": "code",
      "source": [
        "trainDataset = MNIST(root='./data', train=True, download=True)\n",
        "testDataset = MNIST(root='./data',train=False,download=True )"
      ],
      "metadata": {
        "colab": {
          "base_uri": "https://localhost:8080/"
        },
        "id": "Co5veWVM4Y6_",
        "outputId": "9a25f164-e6fd-467a-9432-e43e61ebb345"
      },
      "execution_count": 3,
      "outputs": [
        {
          "output_type": "stream",
          "name": "stdout",
          "text": [
            "Downloading http://yann.lecun.com/exdb/mnist/train-images-idx3-ubyte.gz\n",
            "Failed to download (trying next):\n",
            "HTTP Error 403: Forbidden\n",
            "\n",
            "Downloading https://ossci-datasets.s3.amazonaws.com/mnist/train-images-idx3-ubyte.gz\n",
            "Downloading https://ossci-datasets.s3.amazonaws.com/mnist/train-images-idx3-ubyte.gz to ./data/MNIST/raw/train-images-idx3-ubyte.gz\n"
          ]
        },
        {
          "output_type": "stream",
          "name": "stderr",
          "text": [
            "100%|██████████| 9.91M/9.91M [00:00<00:00, 16.2MB/s]\n"
          ]
        },
        {
          "output_type": "stream",
          "name": "stdout",
          "text": [
            "Extracting ./data/MNIST/raw/train-images-idx3-ubyte.gz to ./data/MNIST/raw\n",
            "\n",
            "Downloading http://yann.lecun.com/exdb/mnist/train-labels-idx1-ubyte.gz\n",
            "Failed to download (trying next):\n",
            "HTTP Error 403: Forbidden\n",
            "\n",
            "Downloading https://ossci-datasets.s3.amazonaws.com/mnist/train-labels-idx1-ubyte.gz\n",
            "Downloading https://ossci-datasets.s3.amazonaws.com/mnist/train-labels-idx1-ubyte.gz to ./data/MNIST/raw/train-labels-idx1-ubyte.gz\n"
          ]
        },
        {
          "output_type": "stream",
          "name": "stderr",
          "text": [
            "100%|██████████| 28.9k/28.9k [00:00<00:00, 491kB/s]\n"
          ]
        },
        {
          "output_type": "stream",
          "name": "stdout",
          "text": [
            "Extracting ./data/MNIST/raw/train-labels-idx1-ubyte.gz to ./data/MNIST/raw\n",
            "\n",
            "Downloading http://yann.lecun.com/exdb/mnist/t10k-images-idx3-ubyte.gz\n",
            "Failed to download (trying next):\n",
            "HTTP Error 403: Forbidden\n",
            "\n",
            "Downloading https://ossci-datasets.s3.amazonaws.com/mnist/t10k-images-idx3-ubyte.gz\n",
            "Downloading https://ossci-datasets.s3.amazonaws.com/mnist/t10k-images-idx3-ubyte.gz to ./data/MNIST/raw/t10k-images-idx3-ubyte.gz\n"
          ]
        },
        {
          "output_type": "stream",
          "name": "stderr",
          "text": [
            "100%|██████████| 1.65M/1.65M [00:00<00:00, 3.83MB/s]\n"
          ]
        },
        {
          "output_type": "stream",
          "name": "stdout",
          "text": [
            "Extracting ./data/MNIST/raw/t10k-images-idx3-ubyte.gz to ./data/MNIST/raw\n",
            "\n",
            "Downloading http://yann.lecun.com/exdb/mnist/t10k-labels-idx1-ubyte.gz\n",
            "Failed to download (trying next):\n",
            "HTTP Error 403: Forbidden\n",
            "\n",
            "Downloading https://ossci-datasets.s3.amazonaws.com/mnist/t10k-labels-idx1-ubyte.gz\n",
            "Downloading https://ossci-datasets.s3.amazonaws.com/mnist/t10k-labels-idx1-ubyte.gz to ./data/MNIST/raw/t10k-labels-idx1-ubyte.gz\n"
          ]
        },
        {
          "output_type": "stream",
          "name": "stderr",
          "text": [
            "100%|██████████| 4.54k/4.54k [00:00<00:00, 2.90MB/s]\n"
          ]
        },
        {
          "output_type": "stream",
          "name": "stdout",
          "text": [
            "Extracting ./data/MNIST/raw/t10k-labels-idx1-ubyte.gz to ./data/MNIST/raw\n",
            "\n"
          ]
        }
      ]
    },
    {
      "cell_type": "code",
      "source": [
        "trainMean = torch.mean(trainDataset.data.float()/255.0)\n",
        "trainStDeviation = torch.std(trainDataset.data.float()/255.0)\n",
        "testMean = torch.mean(testDataset.data.float()/255.0)\n",
        "testStDeviation = torch.std(testDataset.data.float()/255.0)\n",
        "\n",
        "trainDataset.transform = transforms.Compose([transforms.ToTensor(),\n",
        "                                             transforms.Normalize((trainMean,), (trainStDeviation,))])\n",
        "\n",
        "testDataset.transform = transforms.Compose([transforms.ToTensor(),\n",
        "                                             transforms.Normalize((testMean,),(testStDeviation,))])"
      ],
      "metadata": {
        "id": "2mRwE7tU4hv-"
      },
      "execution_count": 4,
      "outputs": []
    },
    {
      "cell_type": "code",
      "source": [
        "class ANNClassification(nn.Module):\n",
        "    def __init__(self):\n",
        "        super().__init__()\n",
        "        self.flatten = nn.Flatten()\n",
        "\n",
        "        self.w1 = torch.randn(784,512, requires_grad=True, device = device)\n",
        "        self.b1 = torch.randn(512, requires_grad= True, device = device)\n",
        "\n",
        "        self.w2 = torch.randn(512, 256, requires_grad=True, device = device)\n",
        "        self.b2 = torch.randn(256, requires_grad= True, device = device)\n",
        "\n",
        "        self.w3 = torch.randn(256,128, requires_grad=True, device = device)\n",
        "        self.b3 = torch.randn(128, requires_grad= True, device = device)\n",
        "\n",
        "        self.w4 = torch.randn(128,10, requires_grad=True, device = device)\n",
        "        self.b4 = torch.randn(10, requires_grad= True, device = device)\n",
        "\n",
        "    def forward(self, x):\n",
        "        x = self.flatten(x)\n",
        "\n",
        "        hiddenLayer1_Input = torch.matmul(x, self.w1) + self.b1\n",
        "        hiddenLayer1_Output = torch.relu(hiddenLayer1_Input)\n",
        "\n",
        "        hiddenLayer2_Input = torch.matmul(hiddenLayer1_Output, self.w2) + self.b2\n",
        "        hiddenLayer2_Output = torch.relu(hiddenLayer2_Input)\n",
        "\n",
        "        hiddenLayer3_Input = torch.matmul(hiddenLayer2_Output, self.w3) + self.b3\n",
        "        hiddenLayer3_Output = torch.relu(hiddenLayer3_Input)\n",
        "\n",
        "        output = torch.matmul(hiddenLayer3_Output, self.w4) + self.b4\n",
        "        return output\n",
        "\n",
        "    def parameters(self):\n",
        "        return [self.w1, self.b1, self.w2, self.b2, self.w3, self.b3,\n",
        "                self.w4, self.b4]"
      ],
      "metadata": {
        "id": "hMny1Ffd4jBK"
      },
      "execution_count": 5,
      "outputs": []
    },
    {
      "cell_type": "code",
      "source": [
        "def trainModel(model, optimizer, crossEntropyLoss, epochs):\n",
        "    trainLoader = DataLoader(trainDataset, batch_size = 64, shuffle=True)\n",
        "\n",
        "    losses = []\n",
        "\n",
        "    for epoch in range(epochs):\n",
        "        for x_batch, y_batch in trainLoader:\n",
        "            model.train()\n",
        "\n",
        "            x_batch = x_batch.to(device)\n",
        "            y_batch = y_batch.to(device)\n",
        "\n",
        "            optimizer.zero_grad()\n",
        "            output = model(x_batch)\n",
        "            loss = crossEntropyLoss(output, y_batch)\n",
        "            loss.backward()\n",
        "            optimizer.step()\n",
        "\n",
        "            losses.append(loss)\n",
        "\n",
        "        print(f\"Epoch {epoch+1}: Losses: {losses[epoch]}\")\n",
        "    return model, losses"
      ],
      "metadata": {
        "id": "lXnCcA5Y4l9q"
      },
      "execution_count": 6,
      "outputs": []
    },
    {
      "cell_type": "code",
      "source": [
        "def evaluateModel(model):\n",
        "    testLoader = DataLoader(testDataset, batch_size = 64, shuffle = False)\n",
        "\n",
        "    y_true = []\n",
        "    ypred = []\n",
        "    model.eval()\n",
        "\n",
        "    with torch.no_grad():\n",
        "      for x_batch, y_batch in testLoader:\n",
        "\n",
        "        x_batch = x_batch.to(device)\n",
        "        y_batch = y_batch.to(device)\n",
        "\n",
        "        y_pred = model(x_batch)\n",
        "        y_pred = torch.softmax(y_pred,1)\n",
        "        y_pred = y_pred.cpu().detach().numpy()\n",
        "        y_pred = np.argmax(y_pred, axis=1)\n",
        "        y_batch = y_batch.cpu().detach().numpy()\n",
        "\n",
        "        y_true.append(y_batch)\n",
        "        ypred.append(y_pred)\n",
        "    return y_true, ypred"
      ],
      "metadata": {
        "id": "ZZcatOds4p6c"
      },
      "execution_count": 7,
      "outputs": []
    },
    {
      "cell_type": "code",
      "source": [
        "model = ANNClassification()\n",
        "model = model.to(device)\n",
        "entropyloss = nn.CrossEntropyLoss()\n",
        "optimizer = optim.Adam(model.parameters(), lr= 0.001)\n",
        "model, losses = trainModel(model, optimizer, entropyloss, epochs = 100)\n",
        "\n",
        "\n",
        "finalLoss = []\n",
        "for loss in losses:\n",
        "  loss = loss.cpu().detach().numpy()\n",
        "  finalLoss.append(loss)\n",
        "plt.plot(finalLoss)\n",
        "plt.xlim(0,20)\n",
        "plt.show()"
      ],
      "metadata": {
        "colab": {
          "base_uri": "https://localhost:8080/",
          "height": 1000
        },
        "id": "djOoyfsJ4tVv",
        "outputId": "5ab7c7d3-124e-4885-c3fc-70a3e31b32ff"
      },
      "execution_count": 9,
      "outputs": [
        {
          "output_type": "stream",
          "name": "stdout",
          "text": [
            "Epoch 1: Losses: 52757.58984375\n",
            "Epoch 2: Losses: 42258.89453125\n",
            "Epoch 3: Losses: 49323.84375\n",
            "Epoch 4: Losses: 40236.76171875\n",
            "Epoch 5: Losses: 40459.0078125\n",
            "Epoch 6: Losses: 36930.52734375\n",
            "Epoch 7: Losses: 30507.376953125\n",
            "Epoch 8: Losses: 33078.2109375\n",
            "Epoch 9: Losses: 30350.603515625\n",
            "Epoch 10: Losses: 28291.921875\n",
            "Epoch 11: Losses: 24199.513671875\n",
            "Epoch 12: Losses: 29532.421875\n",
            "Epoch 13: Losses: 20214.388671875\n",
            "Epoch 14: Losses: 23562.712890625\n",
            "Epoch 15: Losses: 18360.7734375\n",
            "Epoch 16: Losses: 20342.90625\n",
            "Epoch 17: Losses: 21389.06640625\n",
            "Epoch 18: Losses: 17147.900390625\n",
            "Epoch 19: Losses: 21497.365234375\n",
            "Epoch 20: Losses: 19324.009765625\n",
            "Epoch 21: Losses: 18185.93359375\n",
            "Epoch 22: Losses: 17661.45703125\n",
            "Epoch 23: Losses: 18028.548828125\n",
            "Epoch 24: Losses: 14965.337890625\n",
            "Epoch 25: Losses: 14026.2861328125\n",
            "Epoch 26: Losses: 12291.6328125\n",
            "Epoch 27: Losses: 11656.279296875\n",
            "Epoch 28: Losses: 14477.8076171875\n",
            "Epoch 29: Losses: 11076.4111328125\n",
            "Epoch 30: Losses: 14321.79296875\n",
            "Epoch 31: Losses: 15276.1708984375\n",
            "Epoch 32: Losses: 10166.537109375\n",
            "Epoch 33: Losses: 14329.70703125\n",
            "Epoch 34: Losses: 8571.3203125\n",
            "Epoch 35: Losses: 12134.8310546875\n",
            "Epoch 36: Losses: 9091.015625\n",
            "Epoch 37: Losses: 10709.8505859375\n",
            "Epoch 38: Losses: 9653.75\n",
            "Epoch 39: Losses: 10946.83203125\n",
            "Epoch 40: Losses: 10439.9521484375\n",
            "Epoch 41: Losses: 10366.4248046875\n",
            "Epoch 42: Losses: 12276.0634765625\n",
            "Epoch 43: Losses: 8842.4443359375\n",
            "Epoch 44: Losses: 9555.244140625\n",
            "Epoch 45: Losses: 7900.84619140625\n",
            "Epoch 46: Losses: 10131.7021484375\n",
            "Epoch 47: Losses: 10381.5087890625\n",
            "Epoch 48: Losses: 7566.63671875\n",
            "Epoch 49: Losses: 8099.92138671875\n",
            "Epoch 50: Losses: 7729.3740234375\n",
            "Epoch 51: Losses: 7428.1337890625\n",
            "Epoch 52: Losses: 5529.3349609375\n",
            "Epoch 53: Losses: 5635.65087890625\n",
            "Epoch 54: Losses: 8951.6796875\n",
            "Epoch 55: Losses: 9251.275390625\n",
            "Epoch 56: Losses: 8152.10009765625\n",
            "Epoch 57: Losses: 8161.52978515625\n",
            "Epoch 58: Losses: 5405.892578125\n",
            "Epoch 59: Losses: 5659.42529296875\n",
            "Epoch 60: Losses: 7120.09033203125\n",
            "Epoch 61: Losses: 3908.64697265625\n",
            "Epoch 62: Losses: 6080.36962890625\n",
            "Epoch 63: Losses: 6985.880859375\n",
            "Epoch 64: Losses: 8267.9677734375\n",
            "Epoch 65: Losses: 5474.0625\n",
            "Epoch 66: Losses: 5744.0986328125\n",
            "Epoch 67: Losses: 7813.5283203125\n",
            "Epoch 68: Losses: 4577.39794921875\n",
            "Epoch 69: Losses: 7165.7734375\n",
            "Epoch 70: Losses: 6879.67919921875\n",
            "Epoch 71: Losses: 7556.82177734375\n",
            "Epoch 72: Losses: 5944.8349609375\n",
            "Epoch 73: Losses: 3772.27294921875\n",
            "Epoch 74: Losses: 4872.75244140625\n",
            "Epoch 75: Losses: 3450.83251953125\n",
            "Epoch 76: Losses: 5328.017578125\n",
            "Epoch 77: Losses: 6859.34814453125\n",
            "Epoch 78: Losses: 6480.40576171875\n",
            "Epoch 79: Losses: 6982.00537109375\n",
            "Epoch 80: Losses: 6513.9541015625\n",
            "Epoch 81: Losses: 5575.5556640625\n",
            "Epoch 82: Losses: 3488.633056640625\n",
            "Epoch 83: Losses: 6096.8291015625\n",
            "Epoch 84: Losses: 4696.68798828125\n",
            "Epoch 85: Losses: 5457.017578125\n",
            "Epoch 86: Losses: 4807.58642578125\n",
            "Epoch 87: Losses: 6433.982421875\n",
            "Epoch 88: Losses: 5870.77197265625\n",
            "Epoch 89: Losses: 5471.27978515625\n",
            "Epoch 90: Losses: 4274.70751953125\n",
            "Epoch 91: Losses: 3622.88037109375\n",
            "Epoch 92: Losses: 5856.98974609375\n",
            "Epoch 93: Losses: 4594.66357421875\n",
            "Epoch 94: Losses: 4055.79345703125\n",
            "Epoch 95: Losses: 5477.3623046875\n",
            "Epoch 96: Losses: 4026.703369140625\n",
            "Epoch 97: Losses: 5109.48583984375\n",
            "Epoch 98: Losses: 4609.1484375\n",
            "Epoch 99: Losses: 2952.632568359375\n",
            "Epoch 100: Losses: 5262.66796875\n"
          ]
        },
        {
          "output_type": "display_data",
          "data": {
            "text/plain": [
              "<Figure size 640x480 with 1 Axes>"
            ],
            "image/png": "[encoded data removed]"
          },
          "metadata": {}
        }
      ]
    },
    {
      "cell_type": "code",
      "source": [
        "y_true, y_pred = evaluateModel(model)\n",
        "y_true = np.concatenate(y_true)\n",
        "y_pred = np.concatenate(y_pred)\n",
        "confusionMatrix = confusion_matrix(y_true, y_pred)\n",
        "display = ConfusionMatrixDisplay(confusionMatrix,display_labels= np.arange(10))\n",
        "display.plot()\n",
        "print(f\"Confusion Matrix: {confusionMatrix}\")\n",
        "\n",
        "\n",
        "accuracy = accuracy_score(y_true, y_pred)\n",
        "print(f'Accuracy: {accuracy}')\n",
        "precision = precision_score(y_true, y_pred, average = 'macro')\n",
        "print(f'Precision: {precision}')\n",
        "recall = recall_score(y_true, y_pred, average = 'macro')\n",
        "print(f'Recall: {recall}')\n",
        "f1 = f1_score(y_true, y_pred, average = 'macro')\n",
        "print(f'F1: {f1}')"
      ],
      "metadata": {
        "colab": {
          "base_uri": "https://localhost:8080/",
          "height": 692
        },
        "id": "ygZTuWuz4wdF",
        "outputId": "deeffe6d-252d-460d-fd51-b9af4f12692f"
      },
      "execution_count": 10,
      "outputs": [
        {
          "output_type": "stream",
          "name": "stdout",
          "text": [
            "Confusion Matrix: [[ 971    0    0    1    0    2    3    1    2    0]\n",
            " [   1 1126    1    4    0    1    1    1    0    0]\n",
            " [   4    0 1008   10    1    0    0    5    4    0]\n",
            " [   0    0    4  993    0    5    0    3    2    3]\n",
            " [   4    2    6    1  950    1    2    6    2    8]\n",
            " [   3    0    0   12    1  864    3    1    5    3]\n",
            " [   2    4    2    0    5    9  933    0    3    0]\n",
            " [   1    3   11    5    0    0    0 1003    1    4]\n",
            " [   1    0    5    8    2    4    1    5  940    8]\n",
            " [   3    4    1    6    6    5    1    8    2  973]]\n",
            "Accuracy: 0.9761\n",
            "Precision: 0.9760881014642943\n",
            "Recall: 0.9757821034339544\n",
            "F1: 0.9758905375555509\n"
          ]
        },
        {
          "output_type": "display_data",
          "data": {
            "text/plain": [
              "<Figure size 640x480 with 2 Axes>"
            ],
            "image/png": "[encoded data removed]"
          },
          "metadata": {}
        }
      ]
    }
  ]
}